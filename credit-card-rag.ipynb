{
 "cells": [
  {
   "cell_type": "code",
   "execution_count": 21,
   "metadata": {},
   "outputs": [],
   "source": [
    "from langchain_community.document_loaders.recursive_url_loader import RecursiveUrlLoader\n",
    "from bs4 import BeautifulSoup as Soup\n",
    "from urllib.parse import urlparse, urljoin\n",
    "import re\n",
    "\n",
    "##dbs星展, sinopac永豐\n",
    "bank_urls = {\n",
    "            'dbs':'https://www.dbs.com.tw/personal-zh/cards/dbs-credit-cards/default.page', \n",
    "            'sinopac':'https://bank.sinopac.com/sinopacBT/personal/credit-card/introduction/list.html',\n",
    "            'cathy': 'https://www.cathaybk.com.tw/cathaybk/personal/product/credit-card/cards/',\n",
    "            'firstbank': 'https://card.firstbank.com.tw/sites/card/CreditCardList'\n",
    "             }\n",
    "credit_card_urls = {}\n",
    "soup_documents = {k:None for k in list(bank_urls.keys())}\n",
    "\n",
    "for bank, url in bank_urls.items():\n",
    "    loader = RecursiveUrlLoader(url=url)\n",
    "    docs = loader.load()\n",
    "    if bank == 'dbs':\n",
    "        links = list(set([a['href'] for a in Soup(docs[0].page_content).find_all('a', href=True) if (a['href'].startswith('/personal-zh/cards')) and (a['href'].endswith('hyperlink'))]))\n",
    "        credit_card_urls[bank] = [urljoin(url, i) for i in links]\n",
    "    elif bank == 'sinopac':\n",
    "        links = list(set([a['href'] for a in Soup(docs[0].page_content).find_all('a', href=True) if a['href'].startswith('./')]))\n",
    "        credit_card_urls[bank] = [urljoin(url, i) for i in links]\n",
    "    elif bank == 'firstbank':\n",
    "        def firstbank_extractor(html:str):\n",
    "            soup_obj = Soup(html, 'html.parser')\n",
    "            credit_card_feature = [re.sub(r'\\n+', '\\n', d.text) for d in soup_obj.find_all('div', {\"class\":[[\"card-single-features\"]]})]\n",
    "            txt = ''\n",
    "            for features in  credit_card_feature:\n",
    "                split = features.split('\\n', 1)\n",
    "                txt += f\"信用卡卡名：{split[0].strip()}\\n信用卡特色: {split[1]}\"\n",
    "            return txt\n",
    "        all_html = RecursiveUrlLoader(bank_urls['firstbank'], extractor=firstbank_extractor).load()\n",
    "        soup_documents[bank] = all_html\n",
    "\n",
    "        divs = [Soup(doc.page_content, 'html.parser').find_all('div', {\"class\":'card-single'}) for doc in docs][0]\n",
    "        links = []\n",
    "        for d in divs:\n",
    "            link_tags = d.find_all('a')\n",
    "            if len(link_tags) == 1:\n",
    "                detail_url = link_tags[0]['href']\n",
    "                links.append(detail_url)\n",
    "            else:\n",
    "                for tag in link_tags:\n",
    "                    if tag.text == '詳細內容':\n",
    "                        links.append(tag['href'])\n",
    "                    else:\n",
    "                        continue\n",
    "        credit_card_urls[bank] = [urljoin(url, i) for i in links]\n",
    "    elif bank == 'cathy':\n",
    "        def parser(html):\n",
    "            ## main page\n",
    "            divs = Soup(html, 'html.parser').find_all('div', {'class':'cubre-m-compareCard -credit'})\n",
    "            if divs:\n",
    "                divs = [re.sub(r'\\n+', '\\n', i.text) for i in divs]\n",
    "                txt = (' ').join(divs)\n",
    "                txt = re.sub(r' +', ' ', txt)\n",
    "                txt = [t.replace('\\n立即申辦','', 1) for t in txt.split('詳細說明') if t.startswith('\\n立即申辦')]\n",
    "                txt = ('').join(txt).replace('\\n \\n', '\\n')\n",
    "            else:\n",
    "                ## deeper page\n",
    "                divs = Soup(html, 'html.parser').find_all('div', class_=[\"cubre-o-textContent\", \"cubre-m-colorBanner__title\",\"cubre-m-iconEssay__title\",\"cubre-m-horGraphic__title\",\"cubre-m-remind__title\",\"cubre-m-puzzle__title\",\"cubre-a-kvTitle -card\"])\n",
    "                divs = [d.text for d in divs if '您將離開本行官網 前往外部網站' not in d.text]\n",
    "                uni_divs = []\n",
    "                for d in divs[:len(divs)-1]:\n",
    "                    if d not in uni_divs:\n",
    "                        uni_divs.append(d)\n",
    "                txt = re.sub(r'\\n+', '\\n', ('\\n').join(uni_divs))\n",
    "                txt = re.sub(r' +', ' ', txt)\n",
    "            return txt\n",
    "            \n",
    "        docs = RecursiveUrlLoader(url=url, extractor=parser).load()\n",
    "        for d in docs:\n",
    "            d.metadata['bank'] = '國泰銀行'\n",
    "            d.metadata['credit card'] = d.metadata['title'].split('-', 1)[0].strip()\n",
    "        docs = [d for d in docs if '停發' not in d.metadata['title']]\n",
    "        soup_documents['cathy'] = docs\n",
    "        "
   ]
  },
  {
   "cell_type": "code",
   "execution_count": 4,
   "metadata": {},
   "outputs": [],
   "source": [
    "from langchain_community.document_loaders.url_selenium import SeleniumURLLoader\n",
    "# documents = {}\n",
    "# for bank, links in credit_card_urls.items():\n",
    "#     documents[bank] = SeleniumURLLoader(urls=links).load()\n",
    "        "
   ]
  },
  {
   "cell_type": "code",
   "execution_count": null,
   "metadata": {},
   "outputs": [],
   "source": [
    "def sinopac_extractor(html: str) -> str:\n",
    "    soup = Soup(html, \"html.parser\")\n",
    "    divs_txt = [s.text for s in soup.find_all('div', {'class':'tab-box'})]\n",
    "    divs_txt.insert(0, re.sub(r'\\n\\n+', '\\n', soup.find('div', {'class':'info'}).text))\n",
    "    div_set = []\n",
    "    for txt in divs_txt:\n",
    "        if txt not in div_set:\n",
    "            div_set.append(txt)\n",
    "    txt = re.sub(r'[\\t\\r\\xa0]', '', ('\\n').join(div_set))\n",
    "    txt = re.sub(r'  +', ' ', txt)\n",
    "    txt = re.sub(r'\\n+', '\\n', txt)\n",
    "    return txt\n",
    "\n",
    "def dbs_extractor(html:str)->str:\n",
    "    soup = Soup(html, \"html.parser\")\n",
    "    divs_txt = [s.text for s in soup.find_all('div', {'class':'flpweb-legacy'})]\n",
    "    if divs_txt:\n",
    "        div_set = []\n",
    "        for txt in divs_txt:\n",
    "            if txt not in div_set:\n",
    "                div_set.append(txt)\n",
    "        all_txt = ('\\n').join(div_set)\n",
    "    else:\n",
    "        txt = soup.text\n",
    "        txt = [t.strip() for t in txt.split('\\n') if( t != 'more..') and (len(txt.strip()) != 1)]\n",
    "        all_txt = ('\\n').join(txt)\n",
    "\n",
    "    all_txt = all_txt.replace('個人網路銀行\\nCard+ 信用卡數位服務\\n企業網路銀行', '')\n",
    "    all_txt = re.sub(r'[\\t\\r\\xa0]', '', all_txt)\n",
    "    all_txt = re.sub(r'\\xa0', '', all_txt)\n",
    "    all_txt = re.sub(r'  +', ' ', all_txt)\n",
    "    all_txt = re.sub(r'\\n+', '\\n', all_txt)\n",
    "    all_txt = all_txt.split('信用卡刷卡優惠更多星展信用卡刷卡優惠信息，詳情請見刷卡優惠說明。')[0]\n",
    "\n",
    "    if '假字假字假字假字假字假字假字假字假字假字' in all_txt:\n",
    "        all_txt = re.sub('假字假字假字+', '', all_txt)\n",
    "\n",
    "    pattern = r\"網銀登入\\n[\\s\\S]*?選擇您的網站 ▼\\n個人金融\\n個人金融\\n財富管理\\n星展豐盛理財\\n星展豐盛私人客戶\\n企業金融\\n中小企業銀行\\n企業及機構銀行\\n星展集團\\n關於我們\"\n",
    "    # Replace the matched portion with an empty string\n",
    "    all_txt = re.sub(pattern, '', all_txt)\n",
    "    pattern = r'Loading...\\n尊享至上\\n[\\s\\S]*?\\n權益手冊\\n更多獨享優惠'\n",
    "    all_txt = re.sub(pattern, '', all_txt)\n",
    "    pattern = r'新戶好禮\\n[\\s\\S]*?\\n更多星展信用卡'\n",
    "    all_txt = re.sub(pattern, '', all_txt)\n",
    "    all_txt = all_txt.split('謹慎理財 信用至上')[0]\n",
    "    return all_txt\n",
    "\n",
    "def firstbank_extractor(html:str)->str:\n",
    "    divs = Soup(html, 'html.parser').find_all('div', {\"class\":['carousel-item', 'content-body']})\n",
    "    return ('').join([re.sub(r'\\n+', '\\n', d.text) for d in divs])\n",
    "\n",
    "for bank, links in credit_card_urls.items():\n",
    "    docs = []\n",
    "    if bank == 'sinopac':\n",
    "        for url in links:\n",
    "            doc = RecursiveUrlLoader(url=url, extractor=sinopac_extractor).load()\n",
    "            doc[0].metadata['bank'] = '永豐銀行'\n",
    "            docs.extend(doc)\n",
    "    elif bank == 'dbs':\n",
    "        for url in links:\n",
    "            doc = RecursiveUrlLoader(url=url, extractor=dbs_extractor).load()\n",
    "            if doc:\n",
    "                doc[0].metadata['bank'] = '星展銀行'\n",
    "                docs.extend(doc)\n",
    "    elif bank == 'firstbank':\n",
    "        for url in links:\n",
    "            doc = RecursiveUrlLoader(url=url, extractor=firstbank_extractor).load()\n",
    "            doc[0].metadata['bank'] = '第一銀行'\n",
    "            credit_card = doc[0].metadata['title'].split('-', 1)[0].strip()\n",
    "            if '卡' in credit_card:\n",
    "                doc[0].metadata['credit card'] = credit_card\n",
    "            else:\n",
    "                doc[0].metadata['credit card'] = ''\n",
    "            docs.extend(doc)\n",
    "    if soup_documents[bank]:\n",
    "        soup_documents[bank].extend(docs)\n",
    "    else:\n",
    "        soup_documents[bank] = docs"
   ]
  },
  {
   "cell_type": "code",
   "execution_count": 47,
   "metadata": {},
   "outputs": [
    {
     "data": {
      "text/plain": [
       "{'source': 'https://www.dbs.com.tw/personal-zh/cards/dbs-credit-cards/livefresh?pid=tw-pweb-personal-zh_cards_dbs-credit-cards_default_page-hyperlink',\n",
       " 'content_type': 'text/html',\n",
       " 'title': '星展炫晶御璽卡 | 台灣星展銀行',\n",
       " 'description': '海外消費2.52%／國內消費1.2%現金回饋，不只生活更要炫活',\n",
       " 'language': None,\n",
       " 'bank': '星展銀行'}"
      ]
     },
     "execution_count": 47,
     "metadata": {},
     "output_type": "execute_result"
    }
   ],
   "source": [
    "soup_documents['dbs'][1].metadata"
   ]
  },
  {
   "cell_type": "code",
   "execution_count": 23,
   "metadata": {},
   "outputs": [
    {
     "name": "stdout",
     "output_type": "stream",
     "text": [
      "Bank dbs: 23\n",
      "Bank sinopac: 46\n",
      "Bank cathy: 17\n",
      "Bank firstbank: 37\n"
     ]
    }
   ],
   "source": [
    "for k,v in soup_documents.items():\n",
    "    print(f\"Bank {k}: {len(v)}\")"
   ]
  },
  {
   "cell_type": "markdown",
   "metadata": {},
   "source": [
    "## Extract credit card name"
   ]
  },
  {
   "cell_type": "code",
   "execution_count": 64,
   "metadata": {},
   "outputs": [
    {
     "data": {
      "text/plain": [
       "({'source': 'https://bank.sinopac.com/sinopacBT/personal/credit-card/introduction/co-brand/melaleuca-card.html',\n",
       "  'content_type': 'text/html',\n",
       "  'title': '美樂家生活卡 – 永豐銀行',\n",
       "  'description': '美樂家生活卡專享每筆消費最高0.6%現金回饋! 是一張處處為您精打細算的信用卡!讓您所消費的每一分錢都值得輕鬆擁有健康、自在、富足的健康生活。',\n",
       "  'language': 'zh-tw',\n",
       "  'bank': '永豐銀行'},\n",
       " '第一銀行',\n",
       " '一銀百年來與台灣社會、經濟一起成長、茁壯，一貫秉持「顧客至上，服務第一」的經營理念，爲客戶的財富與託付創造更多的價值。期許能成為活躍亞洲的區域型銀行；予客戶最滿意之金融服務，予股東最豐碩且穩健之獲利，予員工最佳的生涯發展空間。')"
      ]
     },
     "execution_count": 64,
     "metadata": {},
     "output_type": "execute_result"
    }
   ],
   "source": [
    "soup_documents['sinopac'][5].metadata,soup_documents['firstbank'][3].metadata['bank'],soup_documents['firstbank'][3].metadata['description']"
   ]
  },
  {
   "cell_type": "code",
   "execution_count": 69,
   "metadata": {},
   "outputs": [
    {
     "name": "stdout",
     "output_type": "stream",
     "text": [
      "No credit card found.\n",
      "現金回饋國外2%、國內1%\n"
     ]
    }
   ],
   "source": [
    "from langchain_core.prompts import PromptTemplate\n",
    "from langchain.chat_models import ChatOllama\n",
    "from langchain_core.output_parsers import JsonOutputParser\n",
    "import string\n",
    "\n",
    "\n",
    "extractor = ChatOllama(model='qwen2:1.5b', temperature=0)\n",
    "extract_prompt = PromptTemplate(template=\"\"\"請幫我提取以下文字內的信用卡名稱，輸出格式請以json格式輸出，輸出格式請遵守{{\"credit card\":\"xxxx\"}}\n",
    "\n",
    "範例:\n",
    "文字:星巴克免費升級植物奶 日本／韓國／歐洲／美洲／新加坡最優5%回饋 | 星展銀行（台灣）\n",
    "答案: {{\"credit card\":[]}}                            \n",
    "\n",
    "\n",
    "文字: {text}\n",
    "答案:\n",
    "\"\"\", input_variables=['text', 'bank'])\n",
    "\n",
    "chain = extract_prompt | extractor | JsonOutputParser()\n",
    "chinese_punctuation = \"。！；：，、（）【】《》『』——\"\n",
    "translator = str.maketrans('', '', chinese_punctuation)\n",
    "\n",
    "for k in list(soup_documents.keys()):\n",
    "    if( k == 'dbs') or (k == 'sinopac'):\n",
    "        for doc in soup_documents[k]:\n",
    "            try:\n",
    "                credit_card = doc.metadata['title'].split('|', 1)[0].strip()\n",
    "                if ('卡' in credit_card) and (credit_card.endswith('卡')):\n",
    "                    doc.metadata['credit card'] = credit_card\n",
    "                else:\n",
    "                    result = chain.invoke({'text':doc.metadata['title'].split('|', 1)[0], 'bank':doc.metadata['bank']})\n",
    "                    if result['credit card']:\n",
    "                        cleaned_text = result['credit card'].translate(translator)\n",
    "                        doc.metadata['credit card'] = cleaned_text\n",
    "                    else:\n",
    "                        doc.metadata['credit card'] = ''\n",
    "                        print(\"No credit card found.\")\n",
    "                        print(doc.metadata['title'])\n",
    "            except Exception as e:\n",
    "                print(\"Error: \", e)\n",
    "                print(doc.metadata['title'])\n",
    "    # elif k == 'sinopac':\n",
    "    #     for doc in soup_documents[k]:\n",
    "    #         credit_card = doc.metadata['title'].split('-', 1)[0].strip()"
   ]
  },
  {
   "cell_type": "code",
   "execution_count": 71,
   "metadata": {},
   "outputs": [
    {
     "data": {
      "text/plain": [
       "['永豐銀行',\n",
       " '钛丰卡 - 永豐銀行',\n",
       " '永豐銀行',\n",
       " '55688聯名卡',\n",
       " '點字金融信用卡, 点字combo 卡, 永豐點字卡, 点字卡',\n",
       " '美樂家生活卡 – 永豐銀行',\n",
       " '永豐幣倍卡',\n",
       " '雄獅T&T白金卡 – 永豐銀行',\n",
       " '永豐銀行',\n",
       " '商务御璽數位企業卡–永豐銀行',\n",
       " '欣興 – 永豐銀行',\n",
       " '永豐保倍卡-永豐銀行',\n",
       " '永豐世界卡-永豐銀行',\n",
       " '商务御璽公司卡 – 永豐銀行',\n",
       " '雙幣公司卡– 永豐銀行',\n",
       " 'DAWAY卡',\n",
       " '美安聯名卡-永豐銀行',\n",
       " 'Vogue Card - Yongfeng Bank',\n",
       " '永傳世界卡',\n",
       " '其他信用卡 – 永豐銀行',\n",
       " '永豐SPORT卡',\n",
       " '',\n",
       " '永豐銀行',\n",
       " '現金回饋無上限國外2%國內1%終身免年費',\n",
       " 'Google Pay - 永豐銀行',\n",
       " '永豐銀行',\n",
       " '永豐銀行',\n",
       " '雙獅旅天下白金卡 – 永豐銀行',\n",
       " '永豐銀行',\n",
       " '中興大學悠遊認同卡 – 永豐銀行',\n",
       " 'SPORT Debit – 永豐銀行',\n",
       " '永富世界卡',\n",
       " '夢行卡 – 永豐銀行',\n",
       " 'Green卡',\n",
       " 'DAWHO 现金回饋信用卡 - 永豐銀行',\n",
       " 'MasterCard (Foreigners Only) – SinoPac',\n",
       " '永豐銀行現金儲值卡 – 永豐銀行',\n",
       " '永豐財富 無限卡-永豐銀行',\n",
       " '永豐銀行',\n",
       " '永豐美麗華卡-永豐銀行',\n",
       " 'JCB卡特選通路',\n",
       " '永豐銀行農騰卡 – 永豐銀行',\n",
       " 'MITSUI OUTLET PARK聯名卡',\n",
       " 'Me Card-永豐銀行',\n",
       " '永豐簽帳金融卡(興大分行限定版)',\n",
       " '永豐銀行']"
      ]
     },
     "execution_count": 71,
     "metadata": {},
     "output_type": "execute_result"
    }
   ],
   "source": [
    "[d.metadata['credit card'] for d in soup_documents['sinopac']]"
   ]
  },
  {
   "cell_type": "code",
   "execution_count": 61,
   "metadata": {},
   "outputs": [
    {
     "name": "stdout",
     "output_type": "stream",
     "text": [
      "你好世界这是一个测试你想要去除标点符号吗？\n"
     ]
    }
   ],
   "source": [
    "import string\n",
    "\n",
    "# Define Chinese punctuation characters\n",
    "\n",
    "\n",
    "# Sample text with Chinese punctuation\n",
    "text = \"你好，世界！这是一个测试：你想要去除标点符号吗？\"\n",
    "\n",
    "# Create a translation table that maps each Chinese punctuation character to None\n",
    "translator = str.maketrans('', '', chinese_punctuation)\n",
    "\n",
    "# Apply the translation to remove punctuation\n",
    "cleaned_text = text.translate(translator)\n",
    "\n",
    "print(cleaned_text)"
   ]
  },
  {
   "cell_type": "markdown",
   "metadata": {},
   "source": [
    "### Summarize the documents"
   ]
  },
  {
   "cell_type": "code",
   "execution_count": 11,
   "metadata": {},
   "outputs": [
    {
     "name": "stdout",
     "output_type": "stream",
     "text": [
      "信用卡产品介绍:\n",
      "\n",
      "1. **万事达卡商务礼遇星展商务eco卡**:\n",
      "   - 针对商界需求设计,提供商务优惠和支付便利。\n",
      "   - 支持货款垫付、广告费用等多用途消费。\n",
      "   - 享有网购保险服务,保障网购安全。\n",
      "\n",
      "2. **万事达卡商务钛金卡**:\n",
      "   - 商务等级信用卡,提供一系列商务礼遇和服务。\n",
      "   - 持卡人可享受特定的网上购物保险权益。\n",
      "\n",
      "3. **申办资格**:\n",
      "   - 年龄18至75岁,年收入需达到新台币22万元以上。\n",
      "\n",
      "4. **年费办法**:\n",
      "   - 正卡年费为新台币3000元。\n",
      "   - 持卡第二年起,满足特定条件可免缴当年年费。\n",
      "\n",
      "5. **环保材质**:\n",
      "   - 使用PLA聚乳酸材料,比传统塑料更天然、耐用且对环境影响较小。\n",
      "\n",
      "6. **信用卡刷卡优惠**:\n",
      "   - 详情请查询刷卡优惠说明页面。\n",
      "\n",
      "7. **循环信用利率**:\n",
      "   - 区间为5.99%至14.99%,基准日为民国113年6月28日。\n",
      "\n",
      "8. **存款保险**:\n",
      "   - 本机构已参加存款保险,提供一定的资金安全保障。\n"
     ]
    }
   ],
   "source": [
    "from langchain.chains.summarize import load_summarize_chain\n",
    "from langchain_core.prompts import PromptTemplate\n",
    "from langchain.chat_models import ChatOllama\n",
    "\n",
    "llm = ChatOllama(model='qwen2:7b-instruct', temperature=0)\n",
    "prompt_template = \"\"\"以下文字為星展銀行信用卡的資訊，請幫我撰寫簡潔的摘要，能夠清楚明瞭是什麼信用卡、優惠有什麼、注意事項及活動時間等重要資訊。請勿解釋或是添加前言，直接回覆答案即可。\n",
    "輸出格式請以純文字輸出，勿以markdown方式呈現。\n",
    "信用卡所有資訊:\n",
    "{text}\n",
    "答案:\n",
    "  \"\"\"\n",
    "\n",
    "prompt_template = \"\"\"將以下內容簡潔地總結為繁體中文:\n",
    "{text}\n",
    "簡潔的總結:\"\"\"\n",
    "prompt = PromptTemplate.from_template(prompt_template)\n",
    "\n",
    "refine_template = (\n",
    "    \"您的工作是製作最終的摘要\\n\"\n",
    "    \"我們已經提供了一個現有的摘要，直到某個點為止: {existing_answer}\\n\"\n",
    "    \"我們有機會根據以下更多的背景信息\"\n",
    "    \"如果需要）來完善現有的摘要\\n\"\n",
    "    \"------------\\n\"\n",
    "    \"{text}\\n\"\n",
    "    \"------------\\n\"\n",
    "    \"根據新的訊息，請將原始摘要進行修改（如果需要的話）。\"\n",
    "    \"如果訊息不有幫助，請返回原始摘要。\"\n",
    ")\n",
    "refine_prompt = PromptTemplate.from_template(refine_template)\n",
    "\n",
    "dbs_prompt = PromptTemplate(template=prompt_template, input_variables=[\"text\"])\n",
    "\n",
    "stuff_chain = load_summarize_chain(llm, chain_type=\"refine\",\n",
    "                                   question_prompt=prompt,\n",
    "                                    refine_prompt=refine_prompt,\n",
    "                                    # return_intermediate_steps=True,\n",
    "                                    input_key=\"input_documents\",\n",
    "                                    output_key=\"output_text\",)\n",
    "\n",
    "try:\n",
    "    print(stuff_chain.run([soup_documents['dbs'][3]]))\n",
    "except Exception as e:\n",
    "    print(\n",
    "        \"The code failed since it won't be able to run inference on such a huge context and throws this exception: \",\n",
    "        e,\n",
    "    )"
   ]
  },
  {
   "cell_type": "code",
   "execution_count": 142,
   "metadata": {},
   "outputs": [
    {
     "data": {
      "text/plain": [
       "{'source': 'https://www.dbs.com.tw/personal-zh/cards/dbs-credit-cards/eco-biz?pid=tw-pweb-personal-zh_cards_dbs-credit-cards_default_page-hyperlink',\n",
       " 'content_type': 'text/html',\n",
       " 'title': '星展商務eco卡 | 星展銀行（台灣）',\n",
       " 'description': '國內／國外一般消費 1.5% 無上限，日本／韓國／美洲／歐洲／新加坡享最優 5% 回饋',\n",
       " 'language': None,\n",
       " 'bank': '星展銀行'}"
      ]
     },
     "execution_count": 142,
     "metadata": {},
     "output_type": "execute_result"
    }
   ],
   "source": [
    "soup_documents['dbs'][3].metadata"
   ]
  },
  {
   "cell_type": "code",
   "execution_count": 21,
   "metadata": {},
   "outputs": [],
   "source": []
  },
  {
   "cell_type": "code",
   "execution_count": null,
   "metadata": {},
   "outputs": [],
   "source": []
  },
  {
   "cell_type": "code",
   "execution_count": 132,
   "metadata": {},
   "outputs": [],
   "source": [
    "import mlflow\n",
    "from langchain.chat_models import ChatOllama\n",
    "from langchain_core.prompts import PromptTemplate\n",
    "from langchain_core.output_parsers import StrOutputParser\n",
    "from langchain_text_splitters import RecursiveCharacterTextSplitter\n",
    "from langchain_qdrant import QdrantVectorStore\n",
    "from langchain_huggingface import HuggingFaceEmbeddings\n",
    "\n",
    "splitter = RecursiveCharacterTextSplitter(chunk_size=400,\n",
    "                                        length_function=len,\n",
    "                                        is_separator_regex=True,\n",
    "                                        chunk_overlap=50,\n",
    "                                        separators=['。'])\n",
    "banks = list(bank_urls.keys())\n",
    "chunks = splitter.split_documents(soup_documents[banks[0]])\n",
    "for b in banks[1:]:\n",
    "    chunks.extend(splitter.split_documents(soup_documents[b]))\n",
    "\n",
    "embedding = HuggingFaceEmbeddings(model_name='BAAI/bge-base-zh-v1.5', model_kwargs={'device':'mps'})\n",
    "collection_name = 'credit_card'\n",
    "qdrant_url = 'http://localhost:6333'\n",
    "# vec_store = QdrantVectorStore.from_existing_collection(\n",
    "#                               collection_name=collection_name,\n",
    "#                               embedding = embedding,\n",
    "#                               url = qdrant_url)\n",
    "\n",
    "vec_store = QdrantVectorStore.from_documents(chunks,\n",
    "                              collection_name=collection_name,\n",
    "                              embedding = embedding,\n",
    "                              force_recreate=True,\n",
    "                              url = qdrant_url)\n",
    "\n"
   ]
  },
  {
   "cell_type": "markdown",
   "metadata": {},
   "source": [
    "## Graph RAG"
   ]
  },
  {
   "cell_type": "code",
   "execution_count": 140,
   "metadata": {},
   "outputs": [
    {
     "name": "stdout",
     "output_type": "stream",
     "text": [
      "Nodes:[]\n",
      "Relationships:[]\n"
     ]
    }
   ],
   "source": [
    "from langchain_experimental.graph_transformers import LLMGraphTransformer\n",
    "llm = ChatOllama(model='jack/llama3-8b-chinese')\n",
    "llm_transformer = LLMGraphTransformer(llm=llm)\n",
    "\n",
    "all_docs = soup_documents[list(soup_documents.keys())[0]]\n",
    "for k in list(soup_documents.keys())[1:]:\n",
    "    all_docs.extend(soup_documents[k])\n",
    "# print(len(all_docs))\n",
    "\n",
    "graph_documents = llm_transformer.convert_to_graph_documents(all_docs[:20])\n",
    "print(f\"Nodes:{graph_documents[0].nodes}\")\n",
    "print(f\"Relationships:{graph_documents[0].relationships}\")"
   ]
  },
  {
   "cell_type": "markdown",
   "metadata": {},
   "source": [
    "## Self-querying retriever"
   ]
  },
  {
   "cell_type": "code",
   "execution_count": 143,
   "metadata": {},
   "outputs": [],
   "source": [
    "from langchain.chains.query_constructor.schema import AttributeInfo\n",
    "from langchain.retrievers.self_query.base import SelfQueryRetriever\n",
    "\n",
    "metadata_field_info = [\n",
    "    AttributeInfo(\n",
    "        name=\"source\",\n",
    "        description=\"The url of the credit card webpage\",\n",
    "        type=\"string\",\n",
    "    ),\n",
    "    AttributeInfo(\n",
    "        name=\"title\",\n",
    "        description=\"The title of the credit card webpage\",\n",
    "        type=\"integer\",\n",
    "    ),\n",
    "    AttributeInfo(\n",
    "        name=\"description\",\n",
    "        description=\"The description of the credit card webpage\",\n",
    "        type=\"string\",\n",
    "    ),\n",
    "    AttributeInfo(\n",
    "        name=\"language\",\n",
    "        description=\"The language of the credit card webpage\",\n",
    "        type=\"string\"\n",
    "    ),\n",
    "    AttributeInfo(\n",
    "        name=\"bank\",\n",
    "        description=\"The bank that hosts the credit card webpage\",\n",
    "        type=\"string\"\n",
    "    ),\n",
    "    AttributeInfo(\n",
    "        name=\"content_type\",\n",
    "        description=\"The content type for a webpage refers to the MIME type or media type specified in the HTTP header, which tells the browser how to interpret the content, such as text/html for HTML documents, application/json for JSON data, or image/jpeg for JPEG images.\",\n",
    "        type=\"string\"\n",
    "    ),\n",
    "]\n",
    "document_content_description = \"The content between HTML tags that is displayed on a credit card webpage, such as headings, paragraphs, links, and other textual elements\"\n",
    "\n",
    "retriever = SelfQueryRetriever.from_llm(\n",
    "    llm,\n",
    "    vec_store,\n",
    "    document_content_description,\n",
    "    metadata_field_info,\n",
    ")"
   ]
  },
  {
   "cell_type": "code",
   "execution_count": 147,
   "metadata": {},
   "outputs": [
    {
     "data": {
      "text/plain": [
       "[Document(metadata={'source': 'https://www.dbs.com.tw/personal-zh/cards/dbs-pchomeprime/index.html?pid=tw-pweb-personal-zh_cards_dbs-credit-cards_default_page-pchome-hyperlink', 'content_type': 'text/html', 'title': '星展PChome聯名卡 回饋太強 好刷到家 | 星展銀行(台灣)', 'description': '回饋太強 好刷到家！PChome站內消費天天4%，最高6%回饋（分期同享一筆）| 國内一般消費 0.5%，國外消費1.5% 聯名點數', 'language': None, 'bank': '星展銀行', '_id': '3f57e90c-eb0a-49b6-94d9-9e7b220ea4d8', '_collection_name': 'credit_card'}, page_content='。\\n星展銀行僅提供各項優惠訊息，星展銀行並非商品或服務之出售人或提供人。所有廣告內容及圖片均由各參與廠商提供，且各優惠商品及服務均由參與商家直接提供予持卡人，若持卡人對服務內容或商品有任何爭議，請逕自與各廠商處理。\\n星展銀行保留得隨時變更、暫停、取消、終止本活動之權利，如有任何變動，以本行網站之最新公告為準'),\n",
       " Document(metadata={'source': 'https://www.dbs.com.tw/personal-zh/cards/dbs-happygo/index.html?pid=tw-pweb-personal-zh_cards_dbs-credit-cards_default_page-funlife-hyperlink', 'content_type': 'text/html', 'title': '【星展HAPPY GO聯名卡】指定通路享點數3倍回饋｜星展銀行', 'description': '不用精算．每筆都賺！刷卡享指定商店3倍、特約商店2倍、一般消費1倍點數回饋，立即申辦。', 'language': None, 'bank': '星展銀行', '_id': '923a9e47-ff14-45cc-af27-f08d2da0b98c', '_collection_name': 'credit_card'}, page_content='。\\n成功扣點兌換後，請使用HAPPY GO App「我的票券」功能使用票券，或是開啟填寫的電子郵件收取票券。\\n提醒您兌換時，請填寫常用且收發穩定的電子郵件，儘量避免使用免費或公務信箱，如兌換成功後10分鐘內若未收到時，請務必立即撥打客服中心服務專線：02-7716-6888，以保障您的權利；若逾期導致序號無法使用，將無法進行退換。\\n本商品電子兌換憑證，僅限於遠東百貨、遠東SOGO、愛買指定專櫃使用。\\n結帳前請出示本券，不接受手抄或口說序號方式兌換。\\n遠東百貨、遠東SOGO即享券無法兌換現金或找零，請一次抵用完畢，不可重複使用。\\n本券不得與其他行銷活動合併使用。\\n如部份商品因產品上下架因素無法供應，配合店家有權更換等值商品替代。\\n本券為不記名，任何人持本券皆可使用，請自行妥善保管，如遭他人盜用，本券不再補發。\\n本券所兌換之商品不予開立統一發票。\\n本券有效與否，以發行人票券系統所記錄之狀態為憑'),\n",
       " Document(metadata={'source': 'https://www.dbs.com.tw/personal-zh/cards/travel_world_elite/index.html?pid=tw-pweb-personal-zh_cards_dbs-credit-cards_default_page-hyperlink', 'content_type': 'text/html', 'title': '星展飛行世界之極卡 | 極速累積哩程,機場接送,貴賓室,機場停車等極致飛行禮遇 | 星展銀行（台灣）', 'description': '新戶申辦符合條件，尊享飛行積金35,000點，再享一年4次免費國際機場接送、免費攜伴2位無限次貴賓室，即刻申請！', 'language': 'zh-TW', 'bank': '星展銀行', '_id': '629a25bb-36f7-445d-9534-6e704f08bd87', '_collection_name': 'credit_card'}, page_content='。申請各分期專案之手續費及每期應攤還本金、利息均無法適用本活動之消費累積。\\n本服務內容中提及之月份係以日曆日計算。\\n本優惠服務係由「肯驛國際」提供，並與合作廠商「行李特工」執行服務\\n預約方式說明：使用本優惠需於使用日期之三個工作天前（不包含例假日、預約日及使用當日），透過線上網站預約。\\n若欲變更或取消訂單，請於使用日期之二個工作天前（不包含例假日、預約日及使用當日）告知星展銀行之特約廠商「肯驛國際」，若超過期限導致無法變更，概不退款。\\n請隨身攜帶身分證、護照、現金、車票等貴重物品，服務途中將無法取回。\\n以單件行李數計費，若超出預訂數量的行李，將於現場依照星展銀行之特約廠商官網價格加收額外的費用（件），付款完成後始可於目的地領取行李，敬請留意'),\n",
       " Document(metadata={'source': 'https://www.dbs.com.tw/personal-zh/cards/dbs-credit-cards/eco-biz?pid=tw-pweb-personal-zh_cards_dbs-credit-cards_default_page-hyperlink', 'content_type': 'text/html', 'title': '星展商務eco卡 | 星展銀行（台灣）', 'description': '國內／國外一般消費 1.5% 無上限，日本／韓國／美洲／歐洲／新加坡享最優 5% 回饋', 'language': None, 'bank': '星展銀行', '_id': 'bfdb0766-89c4-4616-9a30-59075fe37c43', '_collection_name': 'credit_card'}, page_content='。若有新增將再持續加入，請以官網為準。本優惠認定之合格刷卡消費，須於信用卡帳單明細有明確顯示交易名稱（包含：台灣特斯拉、Gogoro–EC, Gogoro Network、綠藤生物科技股份有限公司、greenvines、鮮乳坊、美科實業股份有限公司、直接跟農夫買、甘樂文創、禾乃川釀酵吧、禾乃川、馳綠、茶籽堂、玩轉學校、Ｅｖｏｐｕｒｅｐｌｕｓ、ＬＡＢ２２、ＣＣＩＬＵ、鄰家鮮生、Ａｒｏｍａｓｅ、ｊｕｌｉＡｒｔ、ＭａｃｒｏＨＩＣｏＬｔｄ、艾瑪絲等），始享回饋。若因帳單明細未顯示該商店名稱恕不適用本活動加碼回饋。分期交易不適用本加碼回饋，本活動排除使用轉帳匯款、電子票證、透過第三方支付平台付款之交易（包含但不限於 街口支付、LINE Pay、歐付寶、支付寶、GOMAJI Pay等），透過以上平台之信用卡交易，恕無法回饋')]"
      ]
     },
     "execution_count": 147,
     "metadata": {},
     "output_type": "execute_result"
    }
   ],
   "source": [
    "retriever.invoke(\"星展銀行信用卡優惠最高多少\")"
   ]
  },
  {
   "cell_type": "code",
   "execution_count": null,
   "metadata": {},
   "outputs": [],
   "source": []
  },
  {
   "cell_type": "code",
   "execution_count": 13,
   "metadata": {},
   "outputs": [],
   "source": [
    "from langchain.retrievers.multi_query import MultiQueryRetriever\n",
    "retriever = vec_store.as_retriever(search_kwargs={'k':10, 'score_threshold':0.5})\n",
    "    \n",
    "llm = ChatOllama(model='qwen2:7b-instruct', temperature=0)\n",
    "retriever_from_llm = MultiQueryRetriever.from_llm(\n",
    "    retriever=retriever, llm=llm\n",
    ")\n"
   ]
  },
  {
   "cell_type": "code",
   "execution_count": 148,
   "metadata": {},
   "outputs": [
    {
     "data": {
      "text/plain": [
       "[Document(metadata={'source': 'https://www.dbs.com.tw/personal-zh/cards/dbs-credit-cards/classic?pid=tw-pweb-personal-zh_cards_dbs-credit-cards_default_page-cta', 'content_type': 'text/html', 'title': '星展金卡/普卡 | 台灣星展銀行', 'description': '星展信用卡讓您聰明用卡，享盡精彩', 'language': None, 'bank': '星展銀行', '_id': '49b1335f-859f-4634-b376-08241afee773', '_collection_name': 'credit_card'}, page_content='星展金卡/普卡\\n星展信用卡讓您聰明用卡，享盡精彩 (目前不提供新卡申請)\\n主要特色現金回饋，無上限刷卡消費即時簡訊服務\\n現金回饋，無上限最高0.5%現金回饋，您的每筆星展信用卡消費，皆可累計和回饋，回饋無上限，讓您輕鬆刷卡消費，歡欣享回饋！ 詳細活動內容說明如下：每月新增消費金額次月現金紅利回饋比率NT $100,000以上0.5%NT $50,000至NT $99,9990.3%NT $30,000至 NT $49,9990.1%NT $0至NT $29,9990%新增刷卡消費金額以實際入帳日為準。現金回饋方式除有明顯之計算錯誤外，當月新增消費金額以每月帳單上所載之新增消費金額為準，且正附卡刷卡消費金額合併計算。現金回饋專案所回饋之現金回饋扣抵次月起新增之消費金額，不得提領、折現或轉讓。此現金回饋可累積抵用'),\n",
       " Document(metadata={'source': 'https://www.dbs.com.tw/personal-zh/cards/dbs-credit-cards/classic?pid=tw-pweb-personal-zh_cards_dbs-credit-cards_default_page-hyperlink', 'content_type': 'text/html', 'title': '星展金卡/普卡 | 台灣星展銀行', 'description': '星展信用卡讓您聰明用卡，享盡精彩', 'language': None, 'bank': '星展銀行', '_id': '08426567-f182-46dc-b959-ac69d95486b4', '_collection_name': 'credit_card'}, page_content='星展金卡/普卡\\n星展信用卡讓您聰明用卡，享盡精彩 (目前不提供新卡申請)\\n主要特色現金回饋，無上限刷卡消費即時簡訊服務\\n現金回饋，無上限最高0.5%現金回饋，您的每筆星展信用卡消費，皆可累計和回饋，回饋無上限，讓您輕鬆刷卡消費，歡欣享回饋！ 詳細活動內容說明如下：每月新增消費金額次月現金紅利回饋比率NT $100,000以上0.5%NT $50,000至NT $99,9990.3%NT $30,000至 NT $49,9990.1%NT $0至NT $29,9990%新增刷卡消費金額以實際入帳日為準。現金回饋方式除有明顯之計算錯誤外，當月新增消費金額以每月帳單上所載之新增消費金額為準，且正附卡刷卡消費金額合併計算。現金回饋專案所回饋之現金回饋扣抵次月起新增之消費金額，不得提領、折現或轉讓。此現金回饋可累積抵用'),\n",
       " Document(metadata={'source': 'https://www.dbs.com.tw/personal-zh/cards/dbs-pchomeprime/index.html?pid=tw-pweb-personal-zh_cards_dbs-credit-cards_default_page-pchome-hyperlink', 'content_type': 'text/html', 'title': '星展PChome聯名卡 回饋太強 好刷到家 | 星展銀行(台灣)', 'description': '回饋太強 好刷到家！PChome站內消費天天4%，最高6%回饋（分期同享一筆）| 國内一般消費 0.5%，國外消費1.5% 聯名點數', 'language': None, 'bank': '星展銀行', '_id': '3f57e90c-eb0a-49b6-94d9-9e7b220ea4d8', '_collection_name': 'credit_card'}, page_content='。\\n星展銀行僅提供各項優惠訊息，星展銀行並非商品或服務之出售人或提供人。所有廣告內容及圖片均由各參與廠商提供，且各優惠商品及服務均由參與商家直接提供予持卡人，若持卡人對服務內容或商品有任何爭議，請逕自與各廠商處理。\\n星展銀行保留得隨時變更、暫停、取消、終止本活動之權利，如有任何變動，以本行網站之最新公告為準'),\n",
       " Document(metadata={'source': 'https://www.dbs.com.tw/personal-zh/cards/dbs-pchomeprime/index.html?pid=tw-pweb-personal-zh_cards_dbs-credit-cards_default_page-pchome-hyperlink', 'content_type': 'text/html', 'title': '星展PChome聯名卡 回饋太強 好刷到家 | 星展銀行(台灣)', 'description': '回饋太強 好刷到家！PChome站內消費天天4%，最高6%回饋（分期同享一筆）| 國内一般消費 0.5%，國外消費1.5% 聯名點數', 'language': None, 'bank': '星展銀行', '_id': '7de0e348-ae10-4d78-9463-f56c609f17fc', '_collection_name': 'credit_card'}, page_content='。星展銀行保有活動最終解釋權及裁判權，並有活動內容變更及終止之權利。\\n本活動之商品或服務係由FunNow 提供，星展銀行僅提供各項優惠訊息，並非商品或服務之出售人、與FunNow 之間並無代理或提供保證，如有任何服務或商品爭議，請洽FunNow 協助。\\n本網頁所載之星展（台灣）商業銀行股份有限公司簡稱「星展銀行」。\\n威秀購票\\n平日6折起、假日85折\\n活動期間：即日起～2024/12/31\\n適用卡別：星展信用卡指定卡友\\n優惠內容：刷星展信用卡購買威秀影城電影票，天天優惠6折起、再享小爆＋中可NT$49加價購優惠'),\n",
       " Document(metadata={'source': 'https://www.dbs.com.tw/personal-zh/cards/dbs-pchomeprime/index.html?pid=tw-pweb-personal-zh_cards_dbs-credit-cards_default_page-pchome-hyperlink', 'content_type': 'text/html', 'title': '星展PChome聯名卡 回饋太強 好刷到家 | 星展銀行(台灣)', 'description': '回饋太強 好刷到家！PChome站內消費天天4%，最高6%回饋（分期同享一筆）| 國内一般消費 0.5%，國外消費1.5% 聯名點數', 'language': None, 'bank': '星展銀行', '_id': '5cabb7c5-a077-408d-9d03-ff43a9e34d5f', '_collection_name': 'credit_card'}, page_content='。所有參加本活動所持有之星展信用卡所載特定卡號於活動期間至P幣或刷卡金回饋時，皆須為有效卡且無逾期未繳款情事；持卡人若有不符合或違反本活動規定事項者或所持有之星展信用卡發生遭限制或停止使用或延滯繳款之情事，星展銀行保有取消回饋之權利。\\n若以紅利點數、P幣或現金積點折抵消費，刷卡金額以各點數折抵後實際扣款金額計算，分期付款以整筆刷卡金額計算。\\n專屬狂歡優惠\\nA星展 PChome Prime 聯名卡 x FunNow 按摩&餐飲預訂服務 8 折起\\n適用卡別：星展 PChome Prime 聯名卡\\n專屬優惠碼：DBSPCH2024立刻下載輸入\\n活動期間：2024/04/01～2024/09/30止\\n活動適用對象：本活動僅限星展 PChome Prime 聯名卡信用卡正、附卡持卡人參加'),\n",
       " Document(metadata={'source': 'https://www.dbs.com.tw/personal-zh/cards/dbs-credit-cards/eco-select?pid=tw-pweb-personal-zh_cards_dbs-credit-cards_default_page-hyperlink', 'content_type': 'text/html', 'title': '星展eco永續優選卡 | 星展銀行（台灣）', 'description': '國內／國外一般消費無腦刷，最優1.5%現金紅利回饋，回饋無上限', 'language': None, 'bank': '星展銀行', '_id': '0be130b4-5c3f-4056-ab42-f3c9a9b9ceb8', '_collection_name': 'credit_card'}, page_content='。持卡人若有延遲繳款、未繳款或未按時繳付最近一個月帳單上所示之最低應繳款項、或被暫時停止使用信用卡之權利者，持卡人於繳清全部款項或信用卡使用權利恢復前，不得參加任何「現金紅利」活動。一般條款本回饋係本行單方面無償提供之優惠活動，現金紅利僅適用本活動範圍，於兌換回饋項目前，持卡人不得要求本行將現金紅利折現或給予其他非回饋項目之給付。本行得隨時因法令、政府命令、或其他情事而暫停、終止或修正本回饋或活動辦法之全部或部份（包括但不限於現金紅利比率、現金紅利累積時間、兌換條件及方式等）之內容。詳細之活動辦法和標準，請參閱本行網站或星展回饋獎勵計畫。\\n星展eco永續優選卡現金紅利回饋活動注意事項\\n活動期間：新卡開卡後~2024/12/31。加碼回饋上限每年30,000點現金紅利（換卡前已回饋點數仍持續有效，將併入累計）'),\n",
       " Document(metadata={'source': 'https://www.dbs.com.tw/personal-zh/cards/dbs-credit-cards/eco-select?pid=tw-pweb-personal-zh_cards_dbs-credit-cards_default_page-cta', 'content_type': 'text/html', 'title': '星展eco永續優選卡 | 星展銀行（台灣）', 'description': '國內／國外一般消費無腦刷，最優1.5%現金紅利回饋，回饋無上限', 'language': None, 'bank': '星展銀行', '_id': 'cb4cadb9-31b1-46d2-a22c-9911a777ca36', '_collection_name': 'credit_card'}, page_content='。持卡人若有延遲繳款、未繳款或未按時繳付最近一個月帳單上所示之最低應繳款項、或被暫時停止使用信用卡之權利者，持卡人於繳清全部款項或信用卡使用權利恢復前，不得參加任何「現金紅利」活動。一般條款本回饋係本行單方面無償提供之優惠活動，現金紅利僅適用本活動範圍，於兌換回饋項目前，持卡人不得要求本行將現金紅利折現或給予其他非回饋項目之給付。本行得隨時因法令、政府命令、或其他情事而暫停、終止或修正本回饋或活動辦法之全部或部份（包括但不限於現金紅利比率、現金紅利累積時間、兌換條件及方式等）之內容。詳細之活動辦法和標準，請參閱本行網站或星展回饋獎勵計畫。\\n星展eco永續優選卡現金紅利回饋活動注意事項\\n活動期間：新卡開卡後~2024/12/31。加碼回饋上限每年30,000點現金紅利（換卡前已回饋點數仍持續有效，將併入累計）'),\n",
       " Document(metadata={'source': 'https://www.dbs.com.tw/personal-zh/cards/dbs-credit-cards/yours_signature_business_card?pid=tw-pweb-personal-zh_cards_dbs-credit-cards_default_page-cta', 'content_type': 'text/html', 'title': '星展優仕商務卡 | 台灣星展銀行', 'description': '提供全方位交通權益禮遇、讓您掌握優勢的商務卡', 'language': None, 'bank': '星展銀行', '_id': '9e7dabcc-036e-4555-a149-17dfe6f836cd', '_collection_name': 'credit_card'}, page_content='。活動期間：2024/1/1~2024/12/31，本行保留變更或終止本活動之權利。免責申明 × 提醒：您即將離開星展銀行（台灣）網站：所有其他業者經營之網站均由業者自行負責（包括客戶隱私權保護及客戶資訊安全事項），不屬於星展銀行（台灣）控制或負責範疇。若您同意繼續前往該網站請選擇「繼續」。不同意請選擇「結束」。謝謝！繼續 結束\\n本優惠僅限星展優仕商務卡正附卡持卡人本人使用，除特別註明外，每日限使用一次停車優惠，跨日取車僅適用取車日當日一次停車優惠，每日每次實際停車時數若不足本行指定提供之優惠時間時，不得要求補足或遞延使用該未完全使用之停車優惠時數。正、附卡合併計算消費金額及使用次數。持卡人若持有多張本行信用卡正卡或附卡亦不能重複享有，且以持卡人使用停車優惠當時所使用之卡別為計算免費停車時數之基準。每日使用時數計算基準係以日曆日計算之日'),\n",
       " Document(metadata={'source': 'https://www.dbs.com.tw/personal-zh/cards/dbs-credit-cards/yours_signature_business_card?pid=tw-pweb-personal-zh_cards_dbs-credit-cards_default_page-hyperlink', 'content_type': 'text/html', 'title': '星展優仕商務卡 | 台灣星展銀行', 'description': '提供全方位交通權益禮遇、讓您掌握優勢的商務卡', 'language': None, 'bank': '星展銀行', '_id': '2e9b5b42-7fdd-4016-883a-05d15227b197', '_collection_name': 'credit_card'}, page_content='。活動期間：2024/1/1~2024/12/31，本行保留變更或終止本活動之權利。免責申明 × 提醒：您即將離開星展銀行（台灣）網站：所有其他業者經營之網站均由業者自行負責（包括客戶隱私權保護及客戶資訊安全事項），不屬於星展銀行（台灣）控制或負責範疇。若您同意繼續前往該網站請選擇「繼續」。不同意請選擇「結束」。謝謝！繼續 結束\\n本優惠僅限星展優仕商務卡正附卡持卡人本人使用，除特別註明外，每日限使用一次停車優惠，跨日取車僅適用取車日當日一次停車優惠，每日每次實際停車時數若不足本行指定提供之優惠時間時，不得要求補足或遞延使用該未完全使用之停車優惠時數。正、附卡合併計算消費金額及使用次數。持卡人若持有多張本行信用卡正卡或附卡亦不能重複享有，且以持卡人使用停車優惠當時所使用之卡別為計算免費停車時數之基準。每日使用時數計算基準係以日曆日計算之日'),\n",
       " Document(metadata={'source': 'https://www.dbs.com.tw/personal-zh/cards/dbs-pchomeprime/index.html?pid=tw-pweb-personal-zh_cards_dbs-credit-cards_default_page-pchome-hyperlink', 'content_type': 'text/html', 'title': '星展PChome聯名卡 回饋太強 好刷到家 | 星展銀行(台灣)', 'description': '回饋太強 好刷到家！PChome站內消費天天4%，最高6%回饋（分期同享一筆）| 國内一般消費 0.5%，國外消費1.5% 聯名點數', 'language': None, 'bank': '星展銀行', '_id': 'f313aabb-227b-4c59-9077-9d9397382c78', '_collection_name': 'credit_card'}, page_content='。\\n若持卡人因任何理由將刷卡買受之商品或服務退還或售回，或因簽帳單爭議、虛偽交易、持卡人係特約商店負責人、員工或其他共謀之人收受客戶買受商品或服務之價款後自行刷卡，及其他違反誠信原則之方法取得優惠資格者，本行將逕予以取消活動活動優惠資格，並不另行通知。\\n上述活動服務規範、注意事項與優惠碼使用限制以 FunNow 官方網站公告為準。\\n上述活動之相關活動辦法或變更，以星展銀行網站公告為準。如遇不可抗力或不可歸責之事由，星展銀行保留對上述活動所有事宜最終解釋及決定之權利，本辦法未盡事宜，悉依法令、本行信用卡約定條款、網路銀行理財服務條款或其他有關規定辦理。\\nFunNow 保有折扣碼使用規定最終解釋及裁判權。星展銀行保有活動最終解釋權及裁判權，並有活動內容變更及終止之權利'),\n",
       " Document(metadata={'source': 'https://www.dbs.com.tw/personal-zh/cards/infinite/index.html?pid=tw-pweb-personal-zh_cards_dbs-credit-cards_default_page-cta', 'content_type': 'text/html', 'title': '星展豐盛無限卡 | 星展銀行', 'language': 'zh-TW', 'bank': '星展銀行', '_id': '9c94f334-faf3-45e3-92cc-b7f4244fc6e3', '_collection_name': 'credit_card'}, page_content='。\\n活動注意事項：\\n優惠限星展豐盛無限卡正卡持卡人於使用本優惠的前 180 天內以星展豐盛無限卡支付當次全額國際機票或旅行社國外團費 80％ 以上後使用，且單筆消費金額達 NT$20,000（含）以上，可享機場外圍免費停車禮遇一年最多 3 次，每次最長 5 天（年度計算為 1 月 1 日至 12 月 31 日止；每次使用需間隔 ５ 天，正附卡合併計算停車次數）。若未符合以上使用規定，本行將透過您的信用卡帳戶，以下表之優惠價格酌收當次之停車費用'),\n",
       " Document(metadata={'source': 'https://www.dbs.com.tw/personal-zh/cards/infinite/index.html?pid=tw-pweb-personal-zh_cards_dbs-credit-cards_default_page-hyperlink', 'content_type': 'text/html', 'title': '星展豐盛無限卡 | 星展銀行', 'language': 'zh-TW', 'bank': '星展銀行', '_id': 'a0f5050e-945a-4f53-9cae-41375b0a9e32', '_collection_name': 'credit_card'}, page_content='。\\n活動注意事項：\\n優惠限星展豐盛無限卡正卡持卡人於使用本優惠的前 180 天內以星展豐盛無限卡支付當次全額國際機票或旅行社國外團費 80％ 以上後使用，且單筆消費金額達 NT$20,000（含）以上，可享機場外圍免費停車禮遇一年最多 3 次，每次最長 5 天（年度計算為 1 月 1 日至 12 月 31 日止；每次使用需間隔 ５ 天，正附卡合併計算停車次數）。若未符合以上使用規定，本行將透過您的信用卡帳戶，以下表之優惠價格酌收當次之停車費用'),\n",
       " Document(metadata={'source': 'https://www.dbs.com.tw/personal-zh/cards/dbs-funlife/index.html?pid=tw-pweb-personal-zh_cards_dbs-credit-cards_default_page-funlife-hyperlink', 'content_type': 'text/html', 'title': '星展饗樂生活卡 饗樂最大 就要+1 – 星展銀行（台灣）', 'description': '威秀購票天天6折起、王品集團平日天天9折、KKday全商品最優8折、台灣虎航全航線最優88折！', 'language': None, 'bank': '星展銀行', '_id': '7d47e870-205b-411a-8ea9-3ef18c949efe', '_collection_name': 'credit_card'}, page_content='。\\n星展銀行僅提供各項優惠訊息，星展銀行並非商品或服務之出售人或提供人。所有廣告內容及圖片均由各參與廠商提供，且各優惠商品及服務均由參與商家直接提供予持卡人，若持卡人對服務內容或商品有任何爭議，請逕自與各廠商處理。\\n星展銀行保留得隨時變更、暫停、取消、終止本活動之權利，如有任何變動，以本行網站之最新公告為準。\\n威秀影城購票 天天6折起\\n小爆中可NT$49加價購\\n適用卡別及條件：星展饗樂生活卡正卡持卡人、附卡持卡人適用。\\n活動期間：即日起～2024/12/31\\n購買威秀影城電影票，天天優惠6折起、再享小爆＋中可NT$49加價購優惠'),\n",
       " Document(metadata={'source': 'https://www.dbs.com.tw/personal-zh/cards/dbs-credit-cards/eco-world?pid=tw-pweb-personal-zh_cards_dbs-credit-cards_default_page-cta', 'content_type': 'text/html', 'title': '星展eco永續世界商務卡 | 星展銀行（台灣）', 'description': '國內/外一般消費最優回饋1.5%，eco消費享最優10%回饋', 'language': None, 'bank': '星展銀行', '_id': 'a73ef0c3-442e-43b2-b745-0e31f5978052', '_collection_name': 'credit_card'}, page_content='。另當月帳單新增消費金額需大於退款金額，始可開始獲得點數。如對於點數扣除有疑問者，請致電本行客服。附卡持卡人的消費同樣可累積現金紅利，然須合併於正卡一併計算，又現金紅利不得轉讓予其他人。現金紅利之兌換須由您透過星展回饋獎勵計畫兌換平台完成，且僅限正卡持卡人可兌換現金紅利。當您及附卡持卡人有違反本辦法及條款或信用卡約定條款之情形時，本行保有暫停或終止您參與本計劃的權利，且本行有權隨時取消您帳戶中所有之現金紅利。本現金紅利回饋計劃係本行單方面無償提供之優惠活動，本行得隨時因法令、政府命令、或其他情事而暫停、終止或修正本計劃或本辦法之全部或一部份（包括但不限於現金紅利比率、現金紅利累積時間、兌換條件及方式等）。如本計劃或本辦法有任何暫停、終止或修正，本行得張貼公告於星展銀行網站，或依您與本行約定之方式寄發通知'),\n",
       " Document(metadata={'source': 'https://www.dbs.com.tw/personal-zh/cards/dbs-credit-cards/eco-world?pid=tw-pweb-personal-zh_cards_dbs-credit-cards_default_page-hyperlink', 'content_type': 'text/html', 'title': '星展eco永續世界商務卡 | 星展銀行（台灣）', 'description': '國內/外一般消費最優回饋1.5%，eco消費享最優10%回饋', 'language': None, 'bank': '星展銀行', '_id': '8245c786-10b7-46bf-9d82-88d136a3124c', '_collection_name': 'credit_card'}, page_content='。另當月帳單新增消費金額需大於退款金額，始可開始獲得點數。如對於點數扣除有疑問者，請致電本行客服。附卡持卡人的消費同樣可累積現金紅利，然須合併於正卡一併計算，又現金紅利不得轉讓予其他人。現金紅利之兌換須由您透過星展回饋獎勵計畫兌換平台完成，且僅限正卡持卡人可兌換現金紅利。當您及附卡持卡人有違反本辦法及條款或信用卡約定條款之情形時，本行保有暫停或終止您參與本計劃的權利，且本行有權隨時取消您帳戶中所有之現金紅利。本現金紅利回饋計劃係本行單方面無償提供之優惠活動，本行得隨時因法令、政府命令、或其他情事而暫停、終止或修正本計劃或本辦法之全部或一部份（包括但不限於現金紅利比率、現金紅利累積時間、兌換條件及方式等）。如本計劃或本辦法有任何暫停、終止或修正，本行得張貼公告於星展銀行網站，或依您與本行約定之方式寄發通知'),\n",
       " Document(metadata={'source': 'https://www.dbs.com.tw/personal-zh/cards/dbs-credit-cards/eco-world?pid=tw-pweb-personal-zh_cards_dbs-credit-cards_default_page-cta', 'content_type': 'text/html', 'title': '星展eco永續世界商務卡 | 星展銀行（台灣）', 'description': '國內/外一般消費最優回饋1.5%，eco消費享最優10%回饋', 'language': None, 'bank': '星展銀行', '_id': 'dc3ea327-ebe6-42c3-801b-3386caf6a690', '_collection_name': 'credit_card'}, page_content='。另當月帳單新增消費金額需大於退款金額，始可開始獲得點數。如對於點數扣除有疑問者，請致電本行客服。附卡持卡人的消費同樣可累積現金紅利，然須合併於正卡一併計算，又現金紅利不得轉讓予其他人。現金紅利之兌換須由您透過星展回饋獎勵計畫兌換平台完成，且僅限正卡持卡人可兌換現金紅利。當您及附卡持卡人有違反本辦法及條款或信用卡約定條款之情形時，本行保有暫停或終止您參與本計劃的權利，且本行有權隨時取消您帳戶中所有之現金紅利。本現金紅利回饋計劃係本行單方面無償提供之優惠活動，本行得隨時因法令、政府命令、或其他情事而暫停、終止或修正本計劃或本辦法之全部或一部份（包括但不限於現金紅利比率、現金紅利累積時間、兌換條件及方式等）。如本計劃或本辦法有任何暫停、終止或修正，本行得張貼公告於星展銀行網站，或依您與本行約定之方式寄發通知'),\n",
       " Document(metadata={'source': 'https://www.dbs.com.tw/personal-zh/cards/dbs-credit-cards/eco-world?pid=tw-pweb-personal-zh_cards_dbs-credit-cards_default_page-hyperlink', 'content_type': 'text/html', 'title': '星展eco永續世界商務卡 | 星展銀行（台灣）', 'description': '國內/外一般消費最優回饋1.5%，eco消費享最優10%回饋', 'language': None, 'bank': '星展銀行', '_id': 'fdeeb993-5fa1-42fd-b58e-6b39d654cda0', '_collection_name': 'credit_card'}, page_content='。另當月帳單新增消費金額需大於退款金額，始可開始獲得點數。如對於點數扣除有疑問者，請致電本行客服。附卡持卡人的消費同樣可累積現金紅利，然須合併於正卡一併計算，又現金紅利不得轉讓予其他人。現金紅利之兌換須由您透過星展回饋獎勵計畫兌換平台完成，且僅限正卡持卡人可兌換現金紅利。當您及附卡持卡人有違反本辦法及條款或信用卡約定條款之情形時，本行保有暫停或終止您參與本計劃的權利，且本行有權隨時取消您帳戶中所有之現金紅利。本現金紅利回饋計劃係本行單方面無償提供之優惠活動，本行得隨時因法令、政府命令、或其他情事而暫停、終止或修正本計劃或本辦法之全部或一部份（包括但不限於現金紅利比率、現金紅利累積時間、兌換條件及方式等）。如本計劃或本辦法有任何暫停、終止或修正，本行得張貼公告於星展銀行網站，或依您與本行約定之方式寄發通知'),\n",
       " Document(metadata={'source': 'https://www.dbs.com.tw/personal-zh/cards/dbs-credit-cards/eco-select?pid=tw-pweb-personal-zh_cards_dbs-credit-cards_default_page-cta', 'content_type': 'text/html', 'title': '星展eco永續優選卡 | 星展銀行（台灣）', 'description': '國內／國外一般消費無腦刷，最優1.5%現金紅利回饋，回饋無上限', 'language': None, 'bank': '星展銀行', '_id': '7a08940e-e43e-45ff-ab7c-afa9ace88069', '_collection_name': 'credit_card'}, page_content='。現金紅利之兌換須由您透過星展回饋獎勵計畫兌換平台完成，且僅限正卡持卡人可兌換現金紅利。當您及附卡持卡人有違反本辦法及條款或信用卡約定條款之情形時，本行保有暫停或終止您參與本計劃的權利，且本行有權隨時取消您帳戶中所有之現金紅利。本現金紅利回饋計劃係本行單方面無償提供之優惠活動，本行得隨時因法令、政府命令、或其他情事而暫停、終止或修正本計劃或本辦法之全部或一部份（包括但不限於現金紅利比率、現金紅利累積時間、兌換條件及方式等）。如本計劃或本辦法有任何暫停、終止或修正，本行得張貼公告於星展銀行網站，或依您與本行約定之方式寄發通知。以上星展eco永續優選卡現金紅利回饋計劃之活動辦法及條款乃依據相關法令條款及政府規定法而訂。若有未盡事宜，盡依中華民國法律之規定辦理'),\n",
       " Document(metadata={'source': 'https://www.dbs.com.tw/personal-zh/cards/dbs-credit-cards/eco-select?pid=tw-pweb-personal-zh_cards_dbs-credit-cards_default_page-hyperlink', 'content_type': 'text/html', 'title': '星展eco永續優選卡 | 星展銀行（台灣）', 'description': '國內／國外一般消費無腦刷，最優1.5%現金紅利回饋，回饋無上限', 'language': None, 'bank': '星展銀行', '_id': '5fcd3432-9f65-4d46-a91c-95ee9790dde4', '_collection_name': 'credit_card'}, page_content='。現金紅利之兌換須由您透過星展回饋獎勵計畫兌換平台完成，且僅限正卡持卡人可兌換現金紅利。當您及附卡持卡人有違反本辦法及條款或信用卡約定條款之情形時，本行保有暫停或終止您參與本計劃的權利，且本行有權隨時取消您帳戶中所有之現金紅利。本現金紅利回饋計劃係本行單方面無償提供之優惠活動，本行得隨時因法令、政府命令、或其他情事而暫停、終止或修正本計劃或本辦法之全部或一部份（包括但不限於現金紅利比率、現金紅利累積時間、兌換條件及方式等）。如本計劃或本辦法有任何暫停、終止或修正，本行得張貼公告於星展銀行網站，或依您與本行約定之方式寄發通知。以上星展eco永續優選卡現金紅利回饋計劃之活動辦法及條款乃依據相關法令條款及政府規定法而訂。若有未盡事宜，盡依中華民國法律之規定辦理'),\n",
       " Document(metadata={'source': 'https://www.dbs.com.tw/personal-zh/cards/dbs-credit-cards/eco-select?pid=tw-pweb-personal-zh_cards_dbs-credit-cards_default_page-cta', 'content_type': 'text/html', 'title': '星展eco永續優選卡 | 星展銀行（台灣）', 'description': '國內／國外一般消費無腦刷，最優1.5%現金紅利回饋，回饋無上限', 'language': None, 'bank': '星展銀行', '_id': '30b01e3b-8ba5-4bf2-ad2d-df25bbd7d325', '_collection_name': 'credit_card'}, page_content='。現金紅利之兌換須由您透過星展回饋獎勵計畫兌換平台完成，且僅限正卡持卡人可兌換現金紅利。當您及附卡持卡人有違反本辦法及條款或信用卡約定條款之情形時，本行保有暫停或終止您參與本計劃的權利，且本行有權隨時取消您帳戶中所有之現金紅利。本現金紅利回饋計劃係本行單方面無償提供之優惠活動，本行得隨時因法令、政府命令、或其他情事而暫停、終止或修正本計劃或本辦法之全部或一部份（包括但不限於現金紅利比率、現金紅利累積時間、兌換條件及方式等）。如本計劃或本辦法有任何暫停、終止或修正，本行得張貼公告於星展銀行網站，或依您與本行約定之方式寄發通知。以上星展eco永續優選卡現金紅利回饋計劃之活動辦法及條款乃依據相關法令條款及政府規定法而訂。若有未盡事宜，盡依中華民國法律之規定辦理'),\n",
       " Document(metadata={'source': 'https://www.dbs.com.tw/personal-zh/cards/dbs-credit-cards/eco-select?pid=tw-pweb-personal-zh_cards_dbs-credit-cards_default_page-hyperlink', 'content_type': 'text/html', 'title': '星展eco永續優選卡 | 星展銀行（台灣）', 'description': '國內／國外一般消費無腦刷，最優1.5%現金紅利回饋，回饋無上限', 'language': None, 'bank': '星展銀行', '_id': '15202df6-55a1-418e-8283-5c93bf6f5de3', '_collection_name': 'credit_card'}, page_content='。現金紅利之兌換須由您透過星展回饋獎勵計畫兌換平台完成，且僅限正卡持卡人可兌換現金紅利。當您及附卡持卡人有違反本辦法及條款或信用卡約定條款之情形時，本行保有暫停或終止您參與本計劃的權利，且本行有權隨時取消您帳戶中所有之現金紅利。本現金紅利回饋計劃係本行單方面無償提供之優惠活動，本行得隨時因法令、政府命令、或其他情事而暫停、終止或修正本計劃或本辦法之全部或一部份（包括但不限於現金紅利比率、現金紅利累積時間、兌換條件及方式等）。如本計劃或本辦法有任何暫停、終止或修正，本行得張貼公告於星展銀行網站，或依您與本行約定之方式寄發通知。以上星展eco永續優選卡現金紅利回饋計劃之活動辦法及條款乃依據相關法令條款及政府規定法而訂。若有未盡事宜，盡依中華民國法律之規定辦理')]"
      ]
     },
     "execution_count": 148,
     "metadata": {},
     "output_type": "execute_result"
    }
   ],
   "source": [
    "retriever_from_llm.invoke(\"星展銀行優惠最高是哪張信用卡？\")"
   ]
  },
  {
   "cell_type": "code",
   "execution_count": 19,
   "metadata": {},
   "outputs": [
    {
     "name": "stdout",
     "output_type": "stream",
     "text": [
      "國泰銀行有多款信用卡供選擇：\n",
      "\n",
      "1. **世界卡**: 提供特定回饋優惠，但不包含某些費用和交易類型。\n",
      "2. **聯合報優秀卡**: 已停發，提供年費、掛失費等各項費用及產品權益的資訊可參閱各產品網頁。\n",
      "3. **NFC行動信用卡**: 已停發，不再受理申請與補發業務。\n",
      "\n",
      "這些是國泰銀行提供的幾款信用卡類型。每張卡都有其特定的優點和適用條件，請根據自己的需求選擇適合的信用卡。\n"
     ]
    }
   ],
   "source": [
    "from langchain_community.cross_encoders import HuggingFaceCrossEncoder \n",
    "from langchain.retrievers.document_compressors import CrossEncoderReranker\n",
    "from langchain.retrievers import ContextualCompressionRetriever\n",
    "from langchain_core.runnables import RunnablePassthrough\n",
    "import opencc\n",
    "\n",
    "from opik.integrations.langchain import OpikTracer\n",
    "import os\n",
    "import opik\n",
    "# opik.configure(use_local=True)\n",
    "\n",
    "# Create the Opik tracer\n",
    "# opik_tracer = OpikTracer(tags=[\"langchain\", \"ollama\"])\n",
    "# os.environ[\"OPIK_PROJECT_NAME\"] = \"credit-card-helper\"\n",
    "converter = opencc.OpenCC('s2t.json')\n",
    "reranker = HuggingFaceCrossEncoder(model_name='BAAI/bge-reranker-base')\n",
    "compressor = CrossEncoderReranker(model=reranker, top_n=10)\n",
    "compression_retriever = ContextualCompressionRetriever(base_compressor=compressor, base_retriever=retriever_from_llm)\n",
    "\n",
    "model = ChatOllama(model='qwen2:7b-instruct', temperature=0)\n",
    "# .with_config({\"callbacks\": [opik_tracer]})\n",
    "\n",
    "QUERY_PROMPT = PromptTemplate(\n",
    "    input_variables=[\"question\"],\n",
    "    template=\"\"\"You are an AI question-answering assistant. Your task is to answer the question based on the provided documents. The documents are part of the text from the description of the credit cards.\n",
    "    The documents are not all relevant to the question. Please filter and reply with an answer. No pre-amble or explanation. Please output text only, not in markdown format.\n",
    "    \n",
    "    Documents: \n",
    "    {context}\n",
    "\n",
    "    Question:\n",
    "    {question}\n",
    "\n",
    "    Answer:\"\"\",\n",
    ")\n",
    "\n",
    "def format_docs(docs):\n",
    "    return \"\\n\\n\".join([f\"DOCUMENT {index}\\nTitle: {d.metadata['title']}\\n{d.page_content}\" for index, d in enumerate(docs)])\n",
    "\n",
    "\n",
    "chain = (\n",
    "    {\"context\": compression_retriever | format_docs, \"question\": RunnablePassthrough()}\n",
    "    | QUERY_PROMPT\n",
    "    | model\n",
    "    | StrOutputParser()\n",
    ")\n",
    "\n",
    "question = \"國泰銀行有什麼信用卡？\"\n",
    "response = chain.invoke(question)\n",
    "# compression_retriever.invoke(question)\n",
    "print(converter.convert(response))"
   ]
  },
  {
   "cell_type": "code",
   "execution_count": null,
   "metadata": {},
   "outputs": [],
   "source": []
  },
  {
   "cell_type": "code",
   "execution_count": 8,
   "metadata": {},
   "outputs": [],
   "source": [
    "from opik.evaluation.metrics import Hallucination\n",
    "from opik.evaluation.models import LiteLLMChatModel\n",
    "\n",
    "model = LiteLLMChatModel(\n",
    "    name=\"ollama/llama3.2\",\n",
    "    base_url=\"http://localhost:11434\"\n",
    ")\n",
    "\n",
    "hallucination_metric = Hallucination(\n",
    "    model=model\n",
    ")"
   ]
  },
  {
   "cell_type": "code",
   "execution_count": null,
   "metadata": {},
   "outputs": [],
   "source": [
    "hallucination_metric.score(\n",
    "    input=question,\n",
    "    output=response,\n",
    ")"
   ]
  },
  {
   "cell_type": "code",
   "execution_count": 1,
   "metadata": {},
   "outputs": [
    {
     "name": "stdout",
     "output_type": "stream",
     "text": [
      "ModelResponse(id='chatcmpl-d7c53168-a465-429f-bfbb-6b957da8a265', created=1735090100, model='ollama/llama3.2', object='chat.completion', system_fingerprint=None, choices=[Choices(finish_reason='stop', index=0, message=Message(content=\"I'm an artificial intelligence designed to provide helpful and informative responses, assisting users with various inquiries and tasks efficiently.\", role='assistant', tool_calls=None, function_call=None))], usage=Usage(completion_tokens=23, prompt_tokens=38, total_tokens=61, completion_tokens_details=None, prompt_tokens_details=None))\n"
     ]
    }
   ],
   "source": [
    "from litellm import completion\n",
    "\n",
    "response = completion(\n",
    "    model=\"ollama/llama3.2\", \n",
    "    messages=[{ \"content\": \"respond in 20 words. who are you?\",\"role\": \"user\"}], \n",
    "    api_base=\"http://localhost:11434\"\n",
    ")\n",
    "print(response['choices'][0].message.content)\n"
   ]
  },
  {
   "cell_type": "code",
   "execution_count": null,
   "metadata": {},
   "outputs": [],
   "source": []
  },
  {
   "cell_type": "code",
   "execution_count": null,
   "metadata": {},
   "outputs": [],
   "source": []
  },
  {
   "cell_type": "code",
   "execution_count": null,
   "metadata": {},
   "outputs": [],
   "source": []
  }
 ],
 "metadata": {
  "kernelspec": {
   "display_name": "llm_env",
   "language": "python",
   "name": "python3"
  },
  "language_info": {
   "codemirror_mode": {
    "name": "ipython",
    "version": 3
   },
   "file_extension": ".py",
   "mimetype": "text/x-python",
   "name": "python",
   "nbconvert_exporter": "python",
   "pygments_lexer": "ipython3",
   "version": "3.11.9"
  }
 },
 "nbformat": 4,
 "nbformat_minor": 2
}
