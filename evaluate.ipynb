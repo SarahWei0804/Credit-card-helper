{
 "cells": [
  {
   "cell_type": "code",
   "execution_count": 32,
   "metadata": {},
   "outputs": [
    {
     "data": {
      "text/plain": [
       "b'{\"score\":0.4}'"
      ]
     },
     "execution_count": 32,
     "metadata": {},
     "output_type": "execute_result"
    }
   ],
   "source": [
    "from langchain_core.documents import Document\n",
    "\n",
    "rag_docs = [Document(metadata={'source': 'https://www.dbs.com.tw/personal-zh/cards/dbs-credit-cards/eco-world?pid=tw-pweb-personal-zh_cards_dbs-credit-cards_default_page-hyperlink', 'content_type': 'text/html', 'title': '星展eco永續世界商務卡 | 星展銀行（台灣）', 'description': '國內/外一般消費最優回饋1.5%，eco消費享最優10%回饋', 'language': None, 'bank': 'dbs', '_id': 'b490374f-7354-476d-afa0-e0c34bd7b70e', '_collection_name': 'credit_card'}, page_content='。\\n最高10%現金紅利回饋權益適用期間：新卡開卡後～2024/12/31國內一般消費，筆筆回饋0.88%，回饋無上限國外一般消費，筆筆回饋1.5%，回饋無上限星展支持的社會企業及中小企業／Tesla充電資費／Gogoro 電池資費享最高10%回饋\\xa0（含原國內0.88%回饋 + 加碼9.12% 每月上限300點）\\n 星展eco永續世界商務卡現金紅利回饋活動注意事項活動期間：新卡開卡後~2024/12/31。（換卡前已回饋點數仍持續有效，將併入累計）'),\n",
    " Document(metadata={'source': 'https://www.dbs.com.tw/personal-zh/cards/dbs-credit-cards/eco-world?pid=tw-pweb-personal-zh_cards_dbs-credit-cards_default_page-cta', 'content_type': 'text/html', 'title': '星展eco永續世界商務卡 | 星展銀行（台灣）', 'description': '國內/外一般消費最優回饋1.5%，eco消費享最優10%回饋', 'language': None, 'bank': 'dbs', '_id': 'd3290bfd-5c3a-4a3a-a54f-1500a577ac08', '_collection_name': 'credit_card'}, page_content='。\\n最高10%現金紅利回饋權益適用期間：新卡開卡後～2024/12/31國內一般消費，筆筆回饋0.88%，回饋無上限國外一般消費，筆筆回饋1.5%，回饋無上限星展支持的社會企業及中小企業／Tesla充電資費／Gogoro 電池資費享最高10%回饋\\xa0（含原國內0.88%回饋 + 加碼9.12% 每月上限300點）\\n 星展eco永續世界商務卡現金紅利回饋活動注意事項活動期間：新卡開卡後~2024/12/31。（換卡前已回饋點數仍持續有效，將併入累計）'),\n",
    " Document(metadata={'source': 'https://www.dbs.com.tw/personal-zh/cards/dbs-credit-cards/eco-biz?pid=tw-pweb-personal-zh_cards_dbs-credit-cards_default_page-cta', 'content_type': 'text/html', 'title': '星展商務eco卡 | 星展銀行（台灣）', 'description': '國內／國外一般消費 1.5% 無上限，日本／韓國／美洲／歐洲／新加坡享最優 5% 回饋', 'language': None, 'bank': 'dbs', '_id': '8a7ec689-ad46-4f07-9945-d9c9528fc864', '_collection_name': 'credit_card'}, page_content='星展商務eco卡\\n國內／國外一般消費 1.5% 無上限日本／韓國／美洲／歐洲／新加坡 享最優 5% 回饋(本卡僅接受企業客戶申辦)\\n2025年起星展商務eco卡將適用全新回饋活動 詳細活動內容請詳權益更新。\\n最高10%現金積點回饋\\xa0\\xa0\\xa0國內／國外一般消費享 1.5% 現金積點回饋無上限新加坡／日本／韓國／美洲／歐洲地區享加碼最高 5% 回饋（1.5%現金積點無上限＋3.5%加碼每期帳單回饋（上限1,000點）= 5%現金積點回饋）星展支持的社會企業及中小企業／ Tesla 充電資費／ Gogoro 電池資費享最高 10% 回饋（1.5%現金積點無上限＋8.5%加碼每期帳單回饋（上限300點）= 10%現金積點回饋）\\n 星展商務eco卡國內及國外一般消費1.5%現金積點回饋活動注意事項活動期間：2024/01/01～2024/12/31'),\n",
    " Document(metadata={'source': 'https://www.dbs.com.tw/personal-zh/cards/dbs-credit-cards/eco-biz?pid=tw-pweb-personal-zh_cards_dbs-credit-cards_default_page-hyperlink', 'content_type': 'text/html', 'title': '星展商務eco卡 | 星展銀行（台灣）', 'description': '國內／國外一般消費 1.5% 無上限，日本／韓國／美洲／歐洲／新加坡享最優 5% 回饋', 'language': None, 'bank': 'dbs', '_id': 'cde19210-c973-46b8-9d0c-7ec79adc390b', '_collection_name': 'credit_card'}, page_content='星展商務eco卡\\n國內／國外一般消費 1.5% 無上限日本／韓國／美洲／歐洲／新加坡 享最優 5% 回饋(本卡僅接受企業客戶申辦)\\n2025年起星展商務eco卡將適用全新回饋活動 詳細活動內容請詳權益更新。\\n最高10%現金積點回饋\\xa0\\xa0\\xa0國內／國外一般消費享 1.5% 現金積點回饋無上限新加坡／日本／韓國／美洲／歐洲地區享加碼最高 5% 回饋（1.5%現金積點無上限＋3.5%加碼每期帳單回饋（上限1,000點）= 5%現金積點回饋）星展支持的社會企業及中小企業／ Tesla 充電資費／ Gogoro 電池資費享最高 10% 回饋（1.5%現金積點無上限＋8.5%加碼每期帳單回饋（上限300點）= 10%現金積點回饋）\\n 星展商務eco卡國內及國外一般消費1.5%現金積點回饋活動注意事項活動期間：2024/01/01～2024/12/31'),\n",
    " Document(metadata={'source': 'https://www.dbs.com.tw/personal-zh/cards/dbs-credit-cards/eco-world?pid=tw-pweb-personal-zh_cards_dbs-credit-cards_default_page-cta', 'content_type': 'text/html', 'title': '星展eco永續世界商務卡 | 星展銀行（台灣）', 'description': '國內/外一般消費最優回饋1.5%，eco消費享最優10%回饋', 'language': None, 'bank': 'dbs', '_id': 'fd51eff4-0724-4c1c-a48e-d0b53894ddae', '_collection_name': 'credit_card'}, page_content='。本行得隨時因法令、政府命令、或其他情事而暫停、終止或修正本回饋或活動辦法之全部或部份（包括但不限於現金紅利比率、現金紅利累積時間、兌換條件及方式等）之內容。詳細之活動辦法和標準，請參閱本行網站或星展回饋獎勵計畫。\\n\\n星展eco永續世界商務卡現金紅利回饋活動注意事項\\n活動期間：新卡開卡後~2024/12/31。（換卡前已回饋點數仍持續有效，將併入累計）')]\n",
    "\n",
    "ground = ['https://www.dbs.com.tw/personal-zh/cards/dbs-credit-cards/eco-world?pid=tw-pweb-personal-zh_cards_dbs-credit-cards_default_page-cta']\n",
    "query = '星展eco永續世界商務卡國內回饋是幾%?'\n",
    "\n",
    "score_url = 'http://127.0.0.1:5555/score-documents'\n",
    "import requests\n",
    "input = {'query':query, 'doc_content':[d.page_content for d in rag_docs]}\n",
    "response = requests.post(score_url, json=input)\n",
    "response.content"
   ]
  },
  {
   "cell_type": "code",
   "execution_count": 33,
   "metadata": {},
   "outputs": [
    {
     "data": {
      "text/plain": [
       "b'{\"precision\":0.25,\"recall\":1.0}'"
      ]
     },
     "execution_count": 33,
     "metadata": {},
     "output_type": "execute_result"
    }
   ],
   "source": [
    "eval_url = 'http://127.0.0.1:5555/evaluate-documents'\n",
    "import requests\n",
    "input = {'ground_source':ground, 'retrieved_source':[d.metadata['source'] for d in rag_docs]}\n",
    "response = requests.post(eval_url, json=input)\n",
    "response.content"
   ]
  },
  {
   "cell_type": "code",
   "execution_count": 34,
   "metadata": {},
   "outputs": [
    {
     "data": {
      "text/plain": [
       "b'{\"score\":1.0}'"
      ]
     },
     "execution_count": 34,
     "metadata": {},
     "output_type": "execute_result"
    }
   ],
   "source": [
    "score_ans_url = 'http://127.0.0.1:5555//score-reply'\n",
    "answer = '星展eco永續世界商務卡的回饋率如下：\\n- 国内一般消费：笔笔回馈0.88%，无上限。\\n- 国外一般消费：笔笔回馈1.5%，无上限。\\n- 星展支持的社会企业及中小企业、Tesla充电资费、Gogoro电池资费享最高10%回饋（含原国内0.88%回饋 + 加码9.12%，每月上限300点）。'\n",
    "input = {'query':query, 'answer':answer}\n",
    "response = requests.post(score_ans_url, json=input)\n",
    "response.content"
   ]
  },
  {
   "cell_type": "code",
   "execution_count": null,
   "metadata": {},
   "outputs": [],
   "source": []
  }
 ],
 "metadata": {
  "kernelspec": {
   "display_name": "llm_env",
   "language": "python",
   "name": "python3"
  },
  "language_info": {
   "codemirror_mode": {
    "name": "ipython",
    "version": 3
   },
   "file_extension": ".py",
   "mimetype": "text/x-python",
   "name": "python",
   "nbconvert_exporter": "python",
   "pygments_lexer": "ipython3",
   "version": "3.11.9"
  }
 },
 "nbformat": 4,
 "nbformat_minor": 2
}
