{
 "cells": [
  {
   "cell_type": "code",
   "execution_count": 67,
   "metadata": {},
   "outputs": [],
   "source": [
    "from langchain_community.document_loaders.recursive_url_loader import RecursiveUrlLoader\n",
    "from bs4 import BeautifulSoup as Soup\n",
    "from urllib.parse import urlparse, urljoin\n",
    "\n",
    "##dbs星展, sinopac永豐\n",
    "bank_urls = {'dbs':'https://www.dbs.com.tw/personal-zh/cards/dbs-credit-cards/default.page', 'sinopac':'https://bank.sinopac.com/sinopacBT/personal/credit-card/introduction/list.html'}\n",
    "credit_card_urls = {}\n",
    "\n",
    "for bank, url in bank_urls.items():\n",
    "    loader = RecursiveUrlLoader(url=url)\n",
    "    docs = loader.load()\n",
    "    if bank == 'dbs':\n",
    "        links = list(set([a['href'] for a in Soup(docs[0].page_content).find_all('a', href=True) if (a['href'].startswith('/personal-zh/cards')) and (a['href'].endswith('hyperlink') or a['href'].endswith('cta'))]))\n",
    "        credit_card_urls[bank] = [urljoin(url, i) for i in links]\n",
    "    elif bank == 'sinopac':\n",
    "        links = list(set([a['href'] for a in Soup(docs[0].page_content).find_all('a', href=True) if a['href'].startswith('./')]))\n",
    "        credit_card_urls[bank] = [urljoin(url, i) for i in links]"
   ]
  },
  {
   "cell_type": "code",
   "execution_count": 68,
   "metadata": {},
   "outputs": [],
   "source": [
    "from langchain_community.document_loaders.url_selenium import SeleniumURLLoader\n",
    "documents = {}\n",
    "for bank, links in credit_card_urls.items():\n",
    "    documents[bank] = SeleniumURLLoader(urls=links).load()\n",
    "        "
   ]
  },
  {
   "cell_type": "code",
   "execution_count": 258,
   "metadata": {},
   "outputs": [],
   "source": [
    "from bs4 import BeautifulSoup as Soup\n",
    "import re\n",
    "soup_documents = {}\n",
    "\n",
    "def sinopac_extractor(html: str) -> str:\n",
    "    soup = Soup(html, \"html.parser\")\n",
    "    divs_txt = [s.text for s in soup.find_all('div', {'class':'tab-box'})]\n",
    "    divs_txt.insert(0, re.sub(r'\\n\\n+', '\\n', soup.find('div', {'class':'info'}).text))\n",
    "    div_set = []\n",
    "    for txt in divs_txt:\n",
    "        if txt not in div_set:\n",
    "            div_set.append(txt)\n",
    "    txt = re.sub(r'[\\t\\r\\xa0]', '', ('\\n').join(div_set))\n",
    "    txt = re.sub(r'  +', ' ', txt)\n",
    "    txt = re.sub(r'\\n+', '\\n', txt)\n",
    "    return txt\n",
    "def dbs_extractor(html:str)->str:\n",
    "    soup = Soup(html, \"html.parser\")\n",
    "    divs_txt = [s.text for s in soup.find_all('div', {'class':'flpweb-legacy'})]\n",
    "    if divs_txt:\n",
    "        div_set = []\n",
    "        for txt in divs_txt:\n",
    "            if txt not in div_set:\n",
    "                div_set.append(txt)\n",
    "        return ('\\n').join(div_set)\n",
    "    else:\n",
    "        txt = soup.text\n",
    "        txt = re.sub(r'[\\t\\r\\xa0]', '', txt)\n",
    "        txt = re.sub(r'  +', ' ', txt)\n",
    "        txt = re.sub(r'\\n+', '\\n', txt)\n",
    "        return txt\n",
    "\n",
    "for bank, links in credit_card_urls.items():\n",
    "    docs = []\n",
    "    if bank == 'sinopac':\n",
    "        for url in links:\n",
    "            doc = RecursiveUrlLoader(url=url, extractor=sinopac_extractor).load()\n",
    "            doc[0].metadata['bank'] = 'sinopac'\n",
    "            docs.extend(doc)\n",
    "    elif bank == 'dbs':\n",
    "        for url in links:\n",
    "            doc = RecursiveUrlLoader(url=url, extractor=dbs_extractor).load()\n",
    "            doc[0].metadata['bank'] = 'dbs'\n",
    "            docs.extend(doc)\n",
    "    soup_documents[bank] = docs"
   ]
  },
  {
   "cell_type": "code",
   "execution_count": 260,
   "metadata": {},
   "outputs": [],
   "source": [
    "for doc in soup_documents['dbs']:\n",
    "    doc.page_content = doc.page_content.replace('個人網路銀行\\nCard+ 信用卡數位服務\\n企業網路銀行\\n','')"
   ]
  },
  {
   "cell_type": "code",
   "execution_count": 287,
   "metadata": {},
   "outputs": [],
   "source": [
    "import mlflow\n",
    "from langchain.chat_models import ChatOllama\n",
    "from langchain_core.prompts import PromptTemplate\n",
    "from langchain_core.output_parsers import StrOutputParser\n",
    "from langchain_text_splitters import RecursiveCharacterTextSplitter\n",
    "from langchain_qdrant import QdrantVectorStore\n",
    "from langchain_huggingface import HuggingFaceEmbeddings\n",
    "\n",
    "splitter = RecursiveCharacterTextSplitter(chunk_size=400,\n",
    "                                        length_function=len,\n",
    "                                        is_separator_regex=True,\n",
    "                                        chunk_overlap=50,\n",
    "                                        separators=['。'])\n",
    "\n",
    "chunks = splitter.split_documents(soup_documents['dbs'])\n",
    "chunks.extend(splitter.split_documents(soup_documents['sinopac']))\n",
    "chunks\n",
    "embedding = HuggingFaceEmbeddings(model_name='BAAI/bge-base-zh-v1.5', model_kwargs={'device':'mps'})\n",
    "collection_name = 'credit_card'\n",
    "qdrant_url = 'http://localhost:6333'\n",
    "vec_store = QdrantVectorStore.from_documents(chunks,\n",
    "                              collection_name=collection_name,\n",
    "                              embedding = embedding,\n",
    "                              force_recreate=True,\n",
    "                              url = qdrant_url)\n",
    "\n"
   ]
  },
  {
   "cell_type": "code",
   "execution_count": 288,
   "metadata": {},
   "outputs": [],
   "source": [
    "retriever = vec_store.as_retriever(search_kwargs={'k':10, 'score_threshold':0.5})\n"
   ]
  },
  {
   "cell_type": "code",
   "execution_count": 289,
   "metadata": {},
   "outputs": [
    {
     "data": {
      "text/plain": [
       "'星展eco永續世界商務卡的回饋率如下：\\n- 国内一般消费：笔笔回馈0.88%，无上限。\\n- 国外一般消费：笔笔回馈1.5%，无上限。\\n- 星展支持的社会企业及中小企业、Tesla充电资费、Gogoro电池资费享最高10%回饋（含原国内0.88%回饋 + 加码9.12%，每月上限300点）。'"
      ]
     },
     "execution_count": 289,
     "metadata": {},
     "output_type": "execute_result"
    }
   ],
   "source": [
    "from langchain_community.cross_encoders import HuggingFaceCrossEncoder \n",
    "from langchain.retrievers.document_compressors import CrossEncoderReranker\n",
    "from langchain.retrievers import ContextualCompressionRetriever\n",
    "from langchain_core.runnables import RunnablePassthrough\n",
    "\n",
    "reranker = HuggingFaceCrossEncoder(model_name='BAAI/bge-reranker-base')\n",
    "compressor = CrossEncoderReranker(model=reranker, top_n=5)\n",
    "compression_retriever = ContextualCompressionRetriever(base_compressor=compressor, base_retriever=retriever)\n",
    "\n",
    "model = ChatOllama(model='qwen2:7b-instruct', temperature=0)\n",
    "\n",
    "QUERY_PROMPT = PromptTemplate(\n",
    "    input_variables=[\"question\"],\n",
    "    template=\"\"\"You are an AI question-answering assistant. Your task is to answer the question based on the provided documents. The documents are part of the text from the description of the credit cards.\n",
    "    The documentsa are not all relevant to the question. Please filter and reply with an answer. No pre-amble or explanation.\n",
    "    \n",
    "    Documents: \n",
    "    {context}\n",
    "\n",
    "    Question:\n",
    "    {question}\n",
    "\n",
    "    Answer:\"\"\",\n",
    ")\n",
    "\n",
    "def format_docs(docs):\n",
    "    return \"\\n\\n\".join([f\"DOCUMENT {index}\\nTitle: {d.metadata['title']}\\n{d.page_content}\" for index, d in enumerate(docs)])\n",
    "\n",
    "\n",
    "chain = (\n",
    "    {\"context\": compression_retriever | format_docs, \"question\": RunnablePassthrough()}\n",
    "    | QUERY_PROMPT\n",
    "    | model\n",
    "    | StrOutputParser()\n",
    ")\n",
    "\n",
    "\n",
    "chain.invoke(\"星展eco永續世界商務卡回饋是幾%?\")"
   ]
  },
  {
   "cell_type": "code",
   "execution_count": 291,
   "metadata": {},
   "outputs": [
    {
     "data": {
      "text/plain": [
       "[Document(metadata={'source': 'https://www.dbs.com.tw/personal-zh/cards/dbs-credit-cards/eco-world?pid=tw-pweb-personal-zh_cards_dbs-credit-cards_default_page-hyperlink', 'content_type': 'text/html', 'title': '星展eco永續世界商務卡 | 星展銀行（台灣）', 'description': '國內/外一般消費最優回饋1.5%，eco消費享最優10%回饋', 'language': None, 'bank': 'dbs', '_id': 'af9a6e3d-525c-4208-abaa-b62003952131', '_collection_name': 'credit_card'}, page_content='。\\n最高10%現金紅利回饋權益適用期間：新卡開卡後～2024/12/31國內一般消費，筆筆回饋0.88%，回饋無上限國外一般消費，筆筆回饋1.5%，回饋無上限星展支持的社會企業及中小企業／Tesla充電資費／Gogoro 電池資費享最高10%回饋\\xa0（含原國內0.88%回饋 + 加碼9.12% 每月上限300點）\\n 星展eco永續世界商務卡現金紅利回饋活動注意事項活動期間：新卡開卡後~2024/12/31。（換卡前已回饋點數仍持續有效，將併入累計）'),\n",
       " Document(metadata={'source': 'https://www.dbs.com.tw/personal-zh/cards/dbs-credit-cards/eco-world?pid=tw-pweb-personal-zh_cards_dbs-credit-cards_default_page-cta', 'content_type': 'text/html', 'title': '星展eco永續世界商務卡 | 星展銀行（台灣）', 'description': '國內/外一般消費最優回饋1.5%，eco消費享最優10%回饋', 'language': None, 'bank': 'dbs', '_id': 'fb1adcc2-6f75-46cf-968f-558f8d8ddfd4', '_collection_name': 'credit_card'}, page_content='。\\n最高10%現金紅利回饋權益適用期間：新卡開卡後～2024/12/31國內一般消費，筆筆回饋0.88%，回饋無上限國外一般消費，筆筆回饋1.5%，回饋無上限星展支持的社會企業及中小企業／Tesla充電資費／Gogoro 電池資費享最高10%回饋\\xa0（含原國內0.88%回饋 + 加碼9.12% 每月上限300點）\\n 星展eco永續世界商務卡現金紅利回饋活動注意事項活動期間：新卡開卡後~2024/12/31。（換卡前已回饋點數仍持續有效，將併入累計）'),\n",
       " Document(metadata={'source': 'https://www.dbs.com.tw/personal-zh/cards/dbs-credit-cards/eco-biz?pid=tw-pweb-personal-zh_cards_dbs-credit-cards_default_page-cta', 'content_type': 'text/html', 'title': '星展商務eco卡 | 星展銀行（台灣）', 'description': '國內／國外一般消費 1.5% 無上限，日本／韓國／美洲／歐洲／新加坡享最優 5% 回饋', 'language': None, 'bank': 'dbs', '_id': 'aee9e410-72d8-4397-be41-d9354ce394f0', '_collection_name': 'credit_card'}, page_content='星展商務eco卡\\n國內／國外一般消費 1.5% 無上限日本／韓國／美洲／歐洲／新加坡 享最優 5% 回饋(本卡僅接受企業客戶申辦)\\n2025年起星展商務eco卡將適用全新回饋活動 詳細活動內容請詳權益更新。\\n最高10%現金積點回饋\\xa0\\xa0\\xa0國內／國外一般消費享 1.5% 現金積點回饋無上限新加坡／日本／韓國／美洲／歐洲地區享加碼最高 5% 回饋（1.5%現金積點無上限＋3.5%加碼每期帳單回饋（上限1,000點）= 5%現金積點回饋）星展支持的社會企業及中小企業／ Tesla 充電資費／ Gogoro 電池資費享最高 10% 回饋（1.5%現金積點無上限＋8.5%加碼每期帳單回饋（上限300點）= 10%現金積點回饋）\\n 星展商務eco卡國內及國外一般消費1.5%現金積點回饋活動注意事項活動期間：2024/01/01～2024/12/31'),\n",
       " Document(metadata={'source': 'https://www.dbs.com.tw/personal-zh/cards/dbs-credit-cards/eco-biz?pid=tw-pweb-personal-zh_cards_dbs-credit-cards_default_page-hyperlink', 'content_type': 'text/html', 'title': '星展商務eco卡 | 星展銀行（台灣）', 'description': '國內／國外一般消費 1.5% 無上限，日本／韓國／美洲／歐洲／新加坡享最優 5% 回饋', 'language': None, 'bank': 'dbs', '_id': '7aac8c1a-78f9-4559-965d-4968b7b18c5b', '_collection_name': 'credit_card'}, page_content='星展商務eco卡\\n國內／國外一般消費 1.5% 無上限日本／韓國／美洲／歐洲／新加坡 享最優 5% 回饋(本卡僅接受企業客戶申辦)\\n2025年起星展商務eco卡將適用全新回饋活動 詳細活動內容請詳權益更新。\\n最高10%現金積點回饋\\xa0\\xa0\\xa0國內／國外一般消費享 1.5% 現金積點回饋無上限新加坡／日本／韓國／美洲／歐洲地區享加碼最高 5% 回饋（1.5%現金積點無上限＋3.5%加碼每期帳單回饋（上限1,000點）= 5%現金積點回饋）星展支持的社會企業及中小企業／ Tesla 充電資費／ Gogoro 電池資費享最高 10% 回饋（1.5%現金積點無上限＋8.5%加碼每期帳單回饋（上限300點）= 10%現金積點回饋）\\n 星展商務eco卡國內及國外一般消費1.5%現金積點回饋活動注意事項活動期間：2024/01/01～2024/12/31'),\n",
       " Document(metadata={'source': 'https://www.dbs.com.tw/personal-zh/cards/dbs-credit-cards/eco-world?pid=tw-pweb-personal-zh_cards_dbs-credit-cards_default_page-cta', 'content_type': 'text/html', 'title': '星展eco永續世界商務卡 | 星展銀行（台灣）', 'description': '國內/外一般消費最優回饋1.5%，eco消費享最優10%回饋', 'language': None, 'bank': 'dbs', '_id': 'f7b52e69-b421-442e-a4ee-6701144572ba', '_collection_name': 'credit_card'}, page_content='。本行得隨時因法令、政府命令、或其他情事而暫停、終止或修正本回饋或活動辦法之全部或部份（包括但不限於現金紅利比率、現金紅利累積時間、兌換條件及方式等）之內容。詳細之活動辦法和標準，請參閱本行網站或星展回饋獎勵計畫。\\n\\n星展eco永續世界商務卡現金紅利回饋活動注意事項\\n活動期間：新卡開卡後~2024/12/31。（換卡前已回饋點數仍持續有效，將併入累計）')]"
      ]
     },
     "execution_count": 291,
     "metadata": {},
     "output_type": "execute_result"
    }
   ],
   "source": [
    "compression_retriever.invoke('星展eco永續世界商務卡國內回饋是幾%?')"
   ]
  },
  {
   "cell_type": "code",
   "execution_count": null,
   "metadata": {},
   "outputs": [],
   "source": []
  }
 ],
 "metadata": {
  "kernelspec": {
   "display_name": "llm_env",
   "language": "python",
   "name": "python3"
  },
  "language_info": {
   "codemirror_mode": {
    "name": "ipython",
    "version": 3
   },
   "file_extension": ".py",
   "mimetype": "text/x-python",
   "name": "python",
   "nbconvert_exporter": "python",
   "pygments_lexer": "ipython3",
   "version": "3.11.9"
  }
 },
 "nbformat": 4,
 "nbformat_minor": 2
}
